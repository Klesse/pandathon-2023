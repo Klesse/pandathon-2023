{
  "nbformat": 4,
  "nbformat_minor": 0,
  "metadata": {
    "colab": {
      "provenance": []
    },
    "kernelspec": {
      "name": "python3",
      "display_name": "Python 3"
    },
    "language_info": {
      "name": "python"
    }
  },
  "cells": [
    {
      "cell_type": "code",
      "source": [
        "from bs4 import BeautifulSoup\n",
        "import requests\n",
        "import pandas as pd\n",
        "import numpy as np\n",
        "import re"
      ],
      "metadata": {
        "id": "DYlJnIzSEQpF"
      },
      "execution_count": null,
      "outputs": []
    },
    {
      "cell_type": "code",
      "source": [
        "def obter_cidade_por_cep(cep):\n",
        "    # Monta a URL da API ViaCEP com o CEP fornecido\n",
        "    url = f'https://viacep.com.br/ws/{cep}/json/'\n",
        "\n",
        "    try:\n",
        "        # Faz uma solicitação GET para a API ViaCEP\n",
        "        response = requests.get(url)\n",
        "        # Verifica se a solicitação foi bem-sucedida (código 200)\n",
        "        if response.status_code == 200:\n",
        "            # Converte a resposta para formato JSON\n",
        "            data = response.json()\n",
        "            # Obtém o nome da cidade a partir dos dados da resposta\n",
        "            cidade = data.get('localidade')\n",
        "            return cidade\n",
        "        else:\n",
        "            print(f\"Erro na solicitação. Código de status: {response.status_code}\")\n",
        "    except Exception as e:\n",
        "        print(f\"Erro ao processar a solicitação: {e}\")\n",
        "\n",
        "\n",
        "def remove_special_characters(input_string):\n",
        "    # Define the characters to be removed\n",
        "    characters_to_remove = ['.', '-']\n",
        "\n",
        "    # Use str.translate() method to remove specified characters\n",
        "    translation_table = str.maketrans('', '', ''.join(characters_to_remove))\n",
        "    result_string = input_string.translate(translation_table)\n",
        "\n",
        "    return result_string\n",
        "\n",
        "\n",
        "def get_text_after_slash(input_string):\n",
        "    # Find the position of the '/' character\n",
        "    slash_index = input_string.find('/')\n",
        "\n",
        "    # Check if '/' is found and return the substring after it\n",
        "    if slash_index != -1:\n",
        "        return input_string[slash_index + 1:]\n",
        "    else:\n",
        "        # Return an empty string or raise an exception based on your requirement\n",
        "        return \"\"\n",
        "\n",
        "\n",
        "\n",
        "def get_text_between_secretario_and_newline(input_string):\n",
        "    # Find the position of 'Secretário'\n",
        "    secretario_index = input_string.find('Secretário')\n",
        "\n",
        "    # Check if 'Secretário' is found\n",
        "    if secretario_index != -1:\n",
        "        # Find the position of the next newline character\n",
        "        newline_index = input_string.find('\\n', secretario_index)\n",
        "\n",
        "        # Check if a newline character is found after 'Secretário'\n",
        "        if newline_index != -1:\n",
        "            # Get the substring between 'Secretário' and the next newline character\n",
        "            substring_between_secretario_and_newline = input_string[secretario_index + len('Secretário'):newline_index].strip()\n",
        "\n",
        "            return substring_between_secretario_and_newline\n",
        "        else:\n",
        "            # Return an empty string or raise an exception based on your requirement\n",
        "            return \"\"\n",
        "    else:\n",
        "        # Return an empty string or raise an exception based on your requirement\n",
        "        return \"\"\n",
        "\n",
        "\n",
        "def get_words_between_secretarias_and_secretario(input_string):\n",
        "    # Find the position of 'Secretarias' and 'Secretario'\n",
        "    secretarias_index = input_string.find('Secretarias')\n",
        "    secretario_index = input_string.find('Secretário')\n",
        "\n",
        "    # Check if both 'Secretarias' and 'Secretario' are found\n",
        "    if secretarias_index != -1 and secretario_index != -1:\n",
        "        # Get the substring between 'Secretarias' and 'Secretario'\n",
        "        substring_between = input_string[secretarias_index + len('Secretarias'):secretario_index].strip()\n",
        "\n",
        "        # Split the substring into words\n",
        "        words = substring_between.split()\n",
        "\n",
        "        return words\n",
        "    else:\n",
        "        # Return an empty list or raise an exception based on your requirement\n",
        "        return []\n",
        "\n",
        "def extract_words_between_secretarias_and_endereco(input_string):\n",
        "    # Define the pattern to match everything between 'SECRETARIAS' and 'Endereço'\n",
        "    pattern = re.compile(r'HOME(.*?)(?=Endereço)', re.DOTALL | re.IGNORECASE)\n",
        "\n",
        "    # Find all matches in the input string\n",
        "    matches = pattern.findall(input_string)\n",
        "\n",
        "    # Concatenate all matches and split into words\n",
        "    words = ' '.join(matches).split()\n",
        "\n",
        "    return words\n",
        "\n",
        "def split_list_at_colon(input_list):\n",
        "    # Find the index of ':'\n",
        "    colon_index = input_list.index(':')\n",
        "\n",
        "    # Split the list into two sublists\n",
        "    sublist1 = input_list[:colon_index + 1]\n",
        "    sublist2 = input_list[colon_index + 1:]\n",
        "\n",
        "    return sublist1, sublist2"
      ],
      "metadata": {
        "id": "azlgUbzZEMd_"
      },
      "execution_count": null,
      "outputs": []
    },
    {
      "cell_type": "code",
      "source": [
        "url = 'https://www.consed.org.br/secretarios'\n",
        "response = requests.get(url)\n",
        "soup = BeautifulSoup(response.text, 'html.parser')\n",
        "#soup"
      ],
      "metadata": {
        "id": "2Cpe08kVtviH"
      },
      "execution_count": null,
      "outputs": []
    },
    {
      "cell_type": "code",
      "execution_count": null,
      "metadata": {
        "id": "6AQUaOuB0aqa"
      },
      "outputs": [],
      "source": [
        "\n",
        "\n",
        "# Extracting data based on HTML tags and attributes\n",
        "# Extract text from the specified elements\n",
        "div_class = 'content'\n",
        "namelist=[]\n",
        "citylist=[]\n",
        "ccitlist=[]\n",
        "\n",
        "div_element = soup.findAll('div', class_=div_class)\n",
        "for htmlfile in div_element:\n",
        "  name=htmlfile.find('strong').text\n",
        "  namelist.append(name)\n",
        "  city=htmlfile.find('p').text\n",
        "  citylist.append(city)\n",
        "\n",
        "print(type(citylist[0].split()[-1]))\n",
        "\n",
        "for i in range(len(citylist)):\n",
        "  cleancep = remove_special_characters(citylist[i].split()[-1])\n",
        "  ccit = obter_cidade_por_cep(cleancep)\n",
        "  ccitlist.append(ccit)\n",
        "\n",
        "ccitlist[1] = 'Maceió'\n",
        "ccitlist[2] = 'Manaus'\n",
        "ccitlist[3] = 'Macapá'\n",
        "ccitlist[4] = 'Salvador'\n",
        "ccitlist[7] = 'Vitoria'\n",
        "\n",
        "print(ccitlist)\n",
        "\n"
      ]
    },
    {
      "cell_type": "code",
      "source": [
        "uflist=[]\n",
        "for i in range(len(citylist)):\n",
        "  getuf = remove_special_characters(citylist[i].split()[-3])\n",
        "  uflist.append(get_text_after_slash(getuf))\n",
        "uflist"
      ],
      "metadata": {
        "id": "TL8fvSRQEj1H"
      },
      "execution_count": null,
      "outputs": []
    },
    {
      "cell_type": "code",
      "source": [
        "funclist=['Secretário(a) de Educação']*len(namelist)\n",
        "\n",
        "column_names = ['Nome', 'Funcao', 'Cidade', 'UF']\n",
        "\n",
        "# Use zip to pair column names with data\n",
        "data = list(zip(column_names, [namelist, funclist, ccitlist, uflist]))\n",
        "\n",
        "# Create a DataFrame\n",
        "df = pd.DataFrame(dict(data))\n",
        "\n",
        "# Print the DataFrame\n",
        "print(df)"
      ],
      "metadata": {
        "id": "1ToTWOBMKEkA"
      },
      "execution_count": null,
      "outputs": []
    },
    {
      "cell_type": "code",
      "source": [
        "finalnames=[]\n",
        "finalfun=[]\n",
        "desired_numbers = [136, 149, 455, 140, 456, 141, 142, 143, 133, 144, 145, 146, 148, 139]  # Replace with your desired numbers\n",
        "\n",
        "for number in desired_numbers:\n",
        "  url = f'https://ouropreto.mg.gov.br/secretaria/{number:04d}'\n",
        "  #print(url)\n",
        "  response = requests.get(url)\n",
        "  soup = BeautifulSoup(response.text, 'html.parser')\n",
        "  txt = soup.get_text()\n",
        "  wordvec = get_text_between_secretario_and_newline(txt).split()\n",
        "  wordvec= wordvec[1:]\n",
        "  result_string = ' '.join(wordvec)\n",
        "  #get_words_between_secretarias_and_secretario(soup.get_text())\n",
        "  vec=get_words_between_secretarias_and_secretario(txt)\n",
        "  size=len(get_words_between_secretarias_and_secretario(txt))\n",
        "  sci=size//2\n",
        "  vec=vec[0:sci]\n",
        "  strr = ' '.join(vec)\n",
        "  finalnames.append(result_string)\n",
        "  finalfun.append(strr)\n",
        "\n",
        "fuflist=['MG']*len(finalfun)\n",
        "oplist=['Ouro Preto']*len(finalfun)\n",
        "\n"
      ],
      "metadata": {
        "id": "H_3mqj7tMXXt"
      },
      "execution_count": null,
      "outputs": []
    },
    {
      "cell_type": "code",
      "source": [
        "column_names = ['Nome', 'Funcao', 'Cidade', 'UF']\n",
        "# Use zip to pair column names with data\n",
        "data = list(zip(column_names, [finalnames, finalfun, oplist, fuflist]))\n",
        "# Create a DataFrame\n",
        "df2 = pd.DataFrame(dict(data))\n",
        "# Print the DataFrame\n",
        "finaldf = pd.concat([df, df2])\n",
        "print(finaldf)"
      ],
      "metadata": {
        "id": "HkpqXOs75-sU"
      },
      "execution_count": null,
      "outputs": []
    },
    {
      "cell_type": "code",
      "source": [
        "def substitute_secretaria(input_list):\n",
        "    # Iterate through the list and substitute \"SECRETARIA\" with \"SECRETARIO(A) DE\"\n",
        "    result_list = [word.replace('SECRETARIAS', 'SECRETARIO(A) DE') for word in input_list]\n",
        "\n",
        "    return result_list\n",
        "\n"
      ],
      "metadata": {
        "id": "H_w2Sdr_PZv_"
      },
      "execution_count": null,
      "outputs": []
    },
    {
      "cell_type": "code",
      "source": [
        "url = 'https://municipio.jaguariuna.sp.gov.br/secretarias/7/juventude-esportes-e-lazer.html'\n",
        "response = requests.get(url)\n",
        "soup = BeautifulSoup(response.text, 'html.parser')\n",
        "ll=extract_words_between_secretarias_and_endereco(soup.get_text())\n",
        "l1, l2 = split_list_at_colon(ll)\n",
        "l1=l1[:-2]\n",
        "l1=substitute_secretaria(l1)\n",
        "name=' '.join(l2)\n",
        "func=' '.join(l1)\n",
        "func = func.title()\n"
      ],
      "metadata": {
        "colab": {
          "base_uri": "https://localhost:8080/",
          "height": 36
        },
        "id": "iBmlf8qx77iZ",
        "outputId": "825fbb81-8ef1-4ea8-d31c-d592fc5067af"
      },
      "execution_count": null,
      "outputs": [
        {
          "output_type": "execute_result",
          "data": {
            "text/plain": [
              "'Rafael da Silva Blanco'"
            ],
            "application/vnd.google.colaboratory.intrinsic+json": {
              "type": "string"
            }
          },
          "metadata": {},
          "execution_count": 189
        }
      ]
    },
    {
      "cell_type": "code",
      "source": [
        "reptition=['4/educacao.html',\n",
        "'2/administracao-e-financas.html',\n",
        " '3/assistencia-social.html',\n",
        " '1/desenvolvimento-economico-e-social.html',\n",
        " '6/governo.html',\n",
        " '7/juventude-esportes-e-lazer.html',\n",
        " '8/meio-ambiente.html',\n",
        " '9/mobilidade-urbana.html',\n",
        " '10/negocios-juridicos.html',\n",
        " '11/obras-e-servicos.html',\n",
        " '12/planejamento-urbano.html',\n",
        " '13/saude.html',\n",
        " '15/seguranca-publica.html',\n",
        " '14/turismo-e-cultura.html']\n",
        "nm=[]\n",
        "ff=[]\n",
        "for rep in reptition:\n",
        "  url=f'https://municipio.jaguariuna.sp.gov.br/secretarias/{rep}'\n",
        "  response = requests.get(url)\n",
        "  soup = BeautifulSoup(response.text, 'html.parser')\n",
        "  ll=extract_words_between_secretarias_and_endereco(soup.get_text())\n",
        "  l1, l2 = split_list_at_colon(ll)\n",
        "  l1=l1[:-2]\n",
        "  l1=substitute_secretaria(l1)\n",
        "  name=' '.join(l2)\n",
        "  func=' '.join(l1)\n",
        "  func = func.title()\n",
        "  nm.append(name)\n",
        "  ff.append(func)\n",
        "nm[11]=nm[11][:34]\n"
      ],
      "metadata": {
        "id": "oDZfNYF8Q9nS"
      },
      "execution_count": null,
      "outputs": []
    },
    {
      "cell_type": "code",
      "source": [
        "fuflist=['SP']*len(nm)\n",
        "oplist=['Jaguariuna']*len(nm)"
      ],
      "metadata": {
        "id": "vy3YiooMVBcW"
      },
      "execution_count": null,
      "outputs": []
    },
    {
      "cell_type": "code",
      "source": [
        "column_names = ['Nome', 'Funcao', 'Cidade', 'UF']\n",
        "# Use zip to pair column names with data\n",
        "data = list(zip(column_names, [nm, ff, oplist, fuflist]))\n",
        "# Create a DataFrame\n",
        "df3 = pd.DataFrame(dict(data))\n",
        "# Print the DataFrame\n",
        "finaldf = pd.concat([finaldf, df3])\n",
        "finaldf.shape"
      ],
      "metadata": {
        "colab": {
          "base_uri": "https://localhost:8080/"
        },
        "id": "IywH2_VsTDT2",
        "outputId": "f635592b-e127-434f-fca0-566baf35272c"
      },
      "execution_count": null,
      "outputs": [
        {
          "output_type": "execute_result",
          "data": {
            "text/plain": [
              "(69, 4)"
            ]
          },
          "metadata": {},
          "execution_count": 220
        }
      ]
    },
    {
      "cell_type": "code",
      "source": [
        "url='https://www.juazeirodonorte.ce.gov.br/secretaria.php'\n",
        "response = requests.get(url)\n",
        "soup = BeautifulSoup(response.text, 'html.parser')\n",
        "x=soup.findAll('h6')\n"
      ],
      "metadata": {
        "id": "y7xA_4PVWbRA"
      },
      "execution_count": null,
      "outputs": []
    },
    {
      "cell_type": "code",
      "source": [
        "#x[16].get('title')\n",
        "funcs=[]\n",
        "names=[]\n",
        "len(x)\n",
        "for i in range(16, len(x)):\n",
        "  if i%2==0:\n",
        "    funcs.append(x[i].get('title'))\n",
        "  else:\n",
        "    names.append(x[i].text)\n",
        "\n",
        "for i in range(len(names)):\n",
        "  names[i]=names[i].title()\n",
        "  funcs[i]=funcs[i].title()\n",
        "\n"
      ],
      "metadata": {
        "colab": {
          "base_uri": "https://localhost:8080/"
        },
        "id": "KONxmHNmdlKo",
        "outputId": "ad18706b-7e43-40c5-e7d6-24158a5c8672"
      },
      "execution_count": null,
      "outputs": [
        {
          "output_type": "stream",
          "name": "stdout",
          "text": [
            "[' Francisco Helio Alves Da Silva ', ' Marcelo De Sousa Pinheiro ', ' Vanderlucio Lopes Pereira ', ' Wilson Soares Silva ', ' Josineide Pereira De Sousa Lima ', ' Pergentina Parente Jardim Catunda ', ' Jose Bendimar De Lima Junior ', ' Leandro Saraiva Dantas De Oliveira ', ' Jose Maria Ferreira Pontes Neto ', ' Genilda Ribeiro Oliveira ', ' Francimones Rolim De Albuquerque ', ' Claudio Sergei Luz E Silva ', ' Renato Wilamis De Lima Silva ']\n"
          ]
        }
      ]
    },
    {
      "cell_type": "code",
      "source": [
        "oplist=['Juazeiro do Norte']*len(names)\n",
        "fuflist=['CE']*len(names)"
      ],
      "metadata": {
        "id": "r0i-L1fFgOCh"
      },
      "execution_count": null,
      "outputs": []
    },
    {
      "cell_type": "code",
      "source": [
        "column_names = ['Nome', 'Funcao', 'Cidade', 'UF']\n",
        "# Use zip to pair column names with data\n",
        "data = list(zip(column_names, [names, funcs, oplist, fuflist]))\n",
        "# Create a DataFrame\n",
        "df4 = pd.DataFrame(dict(data))\n",
        "# Print the DataFrame\n",
        "finaldf = pd.concat([finaldf, df4])\n",
        "finaldf.shape"
      ],
      "metadata": {
        "colab": {
          "base_uri": "https://localhost:8080/"
        },
        "id": "k4b_kPM2gKVi",
        "outputId": "0df9db99-6249-48fb-a860-f28f29633b95"
      },
      "execution_count": null,
      "outputs": [
        {
          "output_type": "execute_result",
          "data": {
            "text/plain": [
              "(82, 4)"
            ]
          },
          "metadata": {},
          "execution_count": 280
        }
      ]
    },
    {
      "cell_type": "code",
      "source": [
        "finaldf.to_csv('output.csv', index=False)"
      ],
      "metadata": {
        "id": "zjtJzjJRkV-E"
      },
      "execution_count": null,
      "outputs": []
    }
  ]
}